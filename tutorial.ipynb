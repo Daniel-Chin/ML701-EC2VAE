{
 "cells": [
  {
   "cell_type": "markdown",
   "metadata": {},
   "source": [
    "# Introduction to Computer Music\n",
    "## Week 10: Deep Music Generation\n",
    "\n",
    "### Ziyu Wang, NYU Shanghai\n",
    "\n",
    "\n",
    "In this lab, we introduce PyTorch basics, and how to use two deep music generation models designed by Music X Lab. Specifically,\n",
    "* **EC$^2$-VAE** for monophonic pitch contour and rhythm disentanglement. \n",
    "\n",
    "    *(Ruihan Yang et al., Deep Music Analogy Via Latent Representation Disentanglement)*\n",
    "    \n",
    "    \n",
    "* **Poly-Dis** for polyphonic chord and texture disentanglement. \n",
    "\n",
    "    *(Ziyu Wang et al., Learning Interpretable Representation for Controllable Polyphonic Music Generation)*\n",
    "\n",
    "If you are new to deep learning, we encourage you to focus on:\n",
    "1. The data representation (input & output) for each model.\n",
    "2. Understand the model in a top-down order: starting from how to do style transfer using the example code, and looking into different models/modules while leaving the more detailed stuff as black boxes.\n",
    "\n",
    "**Note**: Do *not* submit this lab. But feel free to discuss with us."
   ]
  },
  {
   "cell_type": "code",
   "execution_count": 1,
   "metadata": {},
   "outputs": [],
   "source": [
    "import numpy as np\n",
    "import torch\n",
    "import pretty_midi as pm\n",
    "import matplotlib.pyplot as plt\n",
    "import os\n",
    "\n",
    "if not os.path.exists('./demo'):\n",
    "    os.mkdir('./demo')"
   ]
  },
  {
   "cell_type": "markdown",
   "metadata": {},
   "source": [
    "## Intro to Pytorch"
   ]
  },
  {
   "cell_type": "markdown",
   "metadata": {},
   "source": [
    "Pytorch tensor can be thought of as another type of numpy array."
   ]
  },
  {
   "cell_type": "code",
   "execution_count": 2,
   "metadata": {},
   "outputs": [],
   "source": [
    "x = torch.rand(3, 4)\n",
    "y = torch.rand(3, 4)"
   ]
  },
  {
   "cell_type": "code",
   "execution_count": 3,
   "metadata": {},
   "outputs": [
    {
     "data": {
      "text/plain": [
       "(tensor([[0.5217, 0.8184, 0.3730, 0.5221],\n",
       "         [0.1589, 0.5488, 0.5200, 0.9062],\n",
       "         [0.8573, 0.3220, 0.4267, 0.2881]]),\n",
       " tensor([[0.2814, 0.7017, 0.0855, 0.9654],\n",
       "         [0.9104, 0.2448, 0.4129, 0.4274],\n",
       "         [0.0311, 0.1447, 0.5544, 0.3095]]))"
      ]
     },
     "execution_count": 3,
     "metadata": {},
     "output_type": "execute_result"
    }
   ],
   "source": [
    "x, y"
   ]
  },
  {
   "cell_type": "code",
   "execution_count": 4,
   "metadata": {},
   "outputs": [
    {
     "data": {
      "text/plain": [
       "(tensor([[0.8031, 1.5201, 0.4585, 1.4875],\n",
       "         [1.0693, 0.7936, 0.9329, 1.3336],\n",
       "         [0.8884, 0.4667, 0.9811, 0.5977]]),\n",
       " tensor([[ 0.2403,  0.1167,  0.2875, -0.4433],\n",
       "         [-0.7515,  0.3041,  0.1071,  0.4788],\n",
       "         [ 0.8261,  0.1773, -0.1278, -0.0214]]),\n",
       " tensor([[0.1468, 0.5742, 0.0319, 0.5041],\n",
       "         [0.1446, 0.1343, 0.2147, 0.3873],\n",
       "         [0.0267, 0.0466, 0.2366, 0.0892]]))"
      ]
     },
     "execution_count": 4,
     "metadata": {},
     "output_type": "execute_result"
    }
   ],
   "source": [
    "x + y, x - y, x * y"
   ]
  },
  {
   "cell_type": "code",
   "execution_count": 5,
   "metadata": {},
   "outputs": [
    {
     "data": {
      "text/plain": [
       "(torch.Size([3, 4]), torch.Size([3, 4]))"
      ]
     },
     "execution_count": 5,
     "metadata": {},
     "output_type": "execute_result"
    }
   ],
   "source": [
    "x.size(), x.shape"
   ]
  },
  {
   "cell_type": "code",
   "execution_count": 6,
   "metadata": {},
   "outputs": [
    {
     "data": {
      "text/plain": [
       "(tensor([[True, True, True, True],\n",
       "         [True, True, True, True],\n",
       "         [True, True, True, True]]),\n",
       " tensor([[5, 8, 3, 5],\n",
       "         [1, 5, 5, 9],\n",
       "         [8, 3, 4, 2]]))"
      ]
     },
     "execution_count": 6,
     "metadata": {},
     "output_type": "execute_result"
    }
   ],
   "source": [
    "(x * 10).bool(), (x * 10).long()"
   ]
  },
  {
   "cell_type": "code",
   "execution_count": 7,
   "metadata": {},
   "outputs": [
    {
     "data": {
      "text/plain": [
       "(numpy.ndarray, (3, 4))"
      ]
     },
     "execution_count": 7,
     "metadata": {},
     "output_type": "execute_result"
    }
   ],
   "source": [
    "x_numpy = x.numpy()\n",
    "type(x_numpy), x_numpy.shape"
   ]
  },
  {
   "cell_type": "code",
   "execution_count": 8,
   "metadata": {},
   "outputs": [
    {
     "data": {
      "text/plain": [
       "(torch.Tensor, torch.Size([3, 4]))"
      ]
     },
     "execution_count": 8,
     "metadata": {},
     "output_type": "execute_result"
    }
   ],
   "source": [
    "x_torch = torch.from_numpy(x_numpy)\n",
    "type(x_torch), x_torch.size()"
   ]
  },
  {
   "cell_type": "code",
   "execution_count": 9,
   "metadata": {},
   "outputs": [
    {
     "data": {
      "text/plain": [
       "tensor([[0.5217, 0.8184, 0.3730, 0.5221],\n",
       "        [0.1589, 0.5488, 0.5200, 0.9062],\n",
       "        [0.8573, 0.3220, 0.4267, 0.2881]])"
      ]
     },
     "execution_count": 9,
     "metadata": {},
     "output_type": "execute_result"
    }
   ],
   "source": [
    "# tnesor can be put on gpu by either of the two ways:\n",
    "if torch.cuda.is_available():\n",
    "    x = x.cuda()\n",
    "\n",
    "if torch.cuda.is_available():\n",
    "    x.to(torch.device('cuda'))\n",
    "    \n",
    "# tensor will be back to cpu by either of the two ways:\n",
    "x = x.cpu()\n",
    "\n",
    "x.to(torch.device('cpu'))"
   ]
  },
  {
   "cell_type": "markdown",
   "metadata": {},
   "source": [
    "### Question 1: read through the entire project. Understand the code as much as you can in a top-down manner. Relate the code with the model diagrams."
   ]
  },
  {
   "cell_type": "markdown",
   "metadata": {},
   "source": [
    "## Part one: EC$^2$-VAE"
   ]
  },
  {
   "cell_type": "markdown",
   "metadata": {},
   "source": [
    "Let's first preprare the pre-trained model. We first initialize our model structure and then load its parameters.\n",
    "* The model structure is defined in the class `ec2vae.model.EC2VAE`. \n",
    "* The model parameter is saved in a `.pt` file."
   ]
  },
  {
   "cell_type": "code",
   "execution_count": 10,
   "metadata": {},
   "outputs": [],
   "source": [
    "from ec2vae.model import EC2VAE"
   ]
  },
  {
   "cell_type": "code",
   "execution_count": 11,
   "metadata": {},
   "outputs": [],
   "source": [
    "# initialize the model\n",
    "ec2vae_model = EC2VAE.init_model()\n",
    "\n",
    "# load model parameter\n",
    "ec2vae_param_path = './ec2vae/model_param/ec2vae-v1.pt'\n",
    "ec2vae_model.load_model(ec2vae_param_path)"
   ]
  },
  {
   "cell_type": "markdown",
   "metadata": {},
   "source": [
    "Then, let's prepare some data and manipulate their latent codes. We use an array of length 32 to represent a 2-bar melody, where each time step corresponds to a 16-th note: 0-127 are MIDI pitches, 128 for sustain, and 130 for rest."
   ]
  },
  {
   "cell_type": "code",
   "execution_count": 12,
   "metadata": {},
   "outputs": [],
   "source": [
    "# x1: \"From the new world\" melody\n",
    "x1 = np.array([64, 128, 128, 67, 67, 128, 128, 128, 64, 128, 128, 62, 60, 128, 128, 128,\n",
    "               62, 128, 128, 64, 67, 128, 128, 64, 62, 128, 128, 128, 129, 129, 129, 129])\n",
    "\n",
    "# x2: C4, sixteenth notes.\n",
    "x2 = np.array([60] * 32)"
   ]
  },
  {
   "cell_type": "markdown",
   "metadata": {},
   "source": [
    "We'll need to turn note arrays into one-hot vectors, i.e., piano-rolls."
   ]
  },
  {
   "cell_type": "code",
   "execution_count": 13,
   "metadata": {},
   "outputs": [],
   "source": [
    "def note_array_to_onehot(note_array):\n",
    "    pr = np.zeros((len(note_array), 130))\n",
    "    pr[np.arange(0, len(note_array)), note_array.astype(int)] = 1.\n",
    "    return pr"
   ]
  },
  {
   "cell_type": "code",
   "execution_count": 14,
   "metadata": {},
   "outputs": [],
   "source": [
    "pr1 = note_array_to_onehot(x1)\n",
    "pr2 = note_array_to_onehot(x2)"
   ]
  },
  {
   "cell_type": "code",
   "execution_count": 15,
   "metadata": {},
   "outputs": [
    {
     "data": {
      "image/png": "[encoded data removed]",
      "text/plain": [
       "<Figure size 432x288 with 1 Axes>"
      ]
     },
     "metadata": {
      "needs_background": "light"
     },
     "output_type": "display_data"
    }
   ],
   "source": [
    "plt.imshow(pr1, aspect='auto')\n",
    "plt.title('Display pr1')\n",
    "plt.show()"
   ]
  },
  {
   "cell_type": "markdown",
   "metadata": {},
   "source": [
    "Melody should be further converted to pytorch tensors, and to cuda/cpu. We should also unsqueeze a batch dimension."
   ]
  },
  {
   "cell_type": "code",
   "execution_count": 16,
   "metadata": {},
   "outputs": [],
   "source": [
    "device = torch.device('cuda' if torch.cuda.is_available() else 'cpu')\n",
    "\n",
    "# to pytorch tensor\n",
    "pr1 = torch.from_numpy(pr1)\n",
    "\n",
    "# to float32\n",
    "pr1 = pr1.float()  \n",
    "\n",
    "# to device (if to cpu, the operation can be omitted.)\n",
    "pr1 = pr1.to(device)\n",
    "\n",
    "# unsqueeze the batch dim\n",
    "pr1 = pr1.unsqueeze(0)\n",
    "\n",
    "\n",
    "# Concert pr2 similarly\n",
    "pr2 = torch.from_numpy(pr2).float().to(device).unsqueeze(0)"
   ]
  },
  {
   "cell_type": "code",
   "execution_count": 17,
   "metadata": {},
   "outputs": [
    {
     "name": "stdout",
     "output_type": "stream",
     "text": [
      "torch.Size([1, 32, 130]) torch.Size([1, 32, 130])\n"
     ]
    }
   ],
   "source": [
    "print(pr1.size(), pr2.size())"
   ]
  },
  {
   "cell_type": "markdown",
   "metadata": {},
   "source": [
    "Next, define the chords. In EC$^2$-VAE, we use 12-dim chord chroma representation. Chord is a time-series consisting of 32 tokens (16-th notes)."
   ]
  },
  {
   "cell_type": "code",
   "execution_count": 18,
   "metadata": {},
   "outputs": [],
   "source": [
    "# some useful chords.\n",
    "amin = [1, 0, 0, 0, 1, 0, 0, 0, 0, 1, 0, 0]\n",
    "gmaj = [0, 0, 1, 0, 0, 0, 0, 1, 0, 0, 0, 1]\n",
    "fmaj = [1, 0, 0, 0, 0, 1, 0, 0, 0, 1, 0, 0]\n",
    "emin = [0, 0, 0, 0, 1, 0, 0, 1, 0, 0, 0, 1]\n",
    "cmaj = [1, 0, 0, 0, 1, 0, 0, 1, 0, 0, 0, 0]\n",
    "cmin = [1, 0, 0, 1, 0, 0, 0, 1, 0, 0, 0, 0]"
   ]
  },
  {
   "cell_type": "code",
   "execution_count": 19,
   "metadata": {},
   "outputs": [],
   "source": [
    "# c1: Cmaj - - - | Gmaj - - - ||\n",
    "c1 = np.array([cmaj] * 16 + [gmaj] * 16)\n",
    "\n",
    "# c2: Amin - Gmaj - | Fmaj - Emin - ||\n",
    "c2 = np.array([amin] * 8 + [gmaj] * 8 + [fmaj] * 8 + [emin] * 8)\n",
    "\n",
    "# no chord\n",
    "c3 = np.zeros((32, 12))"
   ]
  },
  {
   "cell_type": "code",
   "execution_count": 20,
   "metadata": {},
   "outputs": [],
   "source": [
    "c1 = torch.from_numpy(c1).float().to(device).unsqueeze(0)\n",
    "c2 = torch.from_numpy(c2).float().to(device).unsqueeze(0)\n",
    "c3 = torch.from_numpy(c3).float().to(device).unsqueeze(0)"
   ]
  },
  {
   "cell_type": "markdown",
   "metadata": {},
   "source": [
    "Start to run model. Encode $z_p$ and $z_r$ by calling the encoder.\n",
    "    "
   ]
  },
  {
   "cell_type": "code",
   "execution_count": 21,
   "metadata": {},
   "outputs": [],
   "source": [
    "# encode melody 1 and chord C-G\n",
    "zp1, zr1 = ec2vae_model.encoder(pr1, c1)\n",
    "\n",
    "# encode melody 2 and \"no chord\"\n",
    "zp2, zr2 = ec2vae_model.encoder(pr2, c3)"
   ]
  },
  {
   "cell_type": "code",
   "execution_count": 22,
   "metadata": {},
   "outputs": [
    {
     "name": "stdout",
     "output_type": "stream",
     "text": [
      "torch.Size([1, 128]) torch.Size([1, 128]) torch.Size([1, 128]) torch.Size([1, 128])\n"
     ]
    }
   ],
   "source": [
    "print(zp1.size(), zr1.size(), zp2.size(), zr2.size())"
   ]
  },
  {
   "cell_type": "markdown",
   "metadata": {},
   "source": [
    "Let's do the reconstruction of `x_1` and do the what-if generation. We'll use `zp1` and its chord under 16-th note rhythm. We will also try a new chord progression."
   ]
  },
  {
   "cell_type": "code",
   "execution_count": 23,
   "metadata": {},
   "outputs": [],
   "source": [
    "pred_recon = ec2vae_model.decoder(zp1, zr1, c1)\n",
    "pred_new_rhythm = ec2vae_model.decoder(zp1, zr2, c1)\n",
    "pred_new_chord = ec2vae_model.decoder(zp1, zr1, c2)"
   ]
  },
  {
   "cell_type": "markdown",
   "metadata": {},
   "source": [
    "The output should be put back to cpu and to numpy."
   ]
  },
  {
   "cell_type": "code",
   "execution_count": 24,
   "metadata": {},
   "outputs": [],
   "source": [
    "out_recon = pred_recon.squeeze(0).cpu().numpy()\n",
    "out_new_rhythm = pred_new_rhythm.squeeze(0).cpu().numpy()\n",
    "out_new_chord = pred_new_chord.squeeze(0).cpu().numpy()"
   ]
  },
  {
   "cell_type": "code",
   "execution_count": 25,
   "metadata": {},
   "outputs": [
    {
     "data": {
      "text/plain": [
       "(32,)"
      ]
     },
     "execution_count": 25,
     "metadata": {},
     "output_type": "execute_result"
    }
   ],
   "source": [
    "out_new_rhythm.shape"
   ]
  },
  {
   "cell_type": "markdown",
   "metadata": {},
   "source": [
    "Write the generation to MIDI files. The following function converts note array to a list of pretty_midi Notes."
   ]
  },
  {
   "cell_type": "code",
   "execution_count": 26,
   "metadata": {},
   "outputs": [],
   "source": [
    "notes_recon = ec2vae_model.__class__.note_array_to_notes(out_recon, bpm=120, start=0.)\n",
    "notes_new_rhythm = ec2vae_model.__class__.note_array_to_notes(out_new_rhythm, bpm=120, start=0.)\n",
    "notes_new_chord = ec2vae_model.__class__.note_array_to_notes(out_new_chord, bpm=120, start=0.)"
   ]
  },
  {
   "cell_type": "markdown",
   "metadata": {},
   "source": [
    "The following function coverts chord to a list of pretty_midi notes."
   ]
  },
  {
   "cell_type": "code",
   "execution_count": 27,
   "metadata": {},
   "outputs": [],
   "source": [
    "notes_c1 = ec2vae_model.__class__.chord_to_notes(c1.squeeze(0).cpu().numpy(), 120, 0)\n",
    "notes_c2 = ec2vae_model.__class__.chord_to_notes(c2.squeeze(0).cpu().numpy(), 120, 0)"
   ]
  },
  {
   "cell_type": "markdown",
   "metadata": {},
   "source": [
    "Generate three MIDI files. Note:\n",
    "1. The original \"From the new world\" melody should be played with `c1`.\n",
    "2. The melody transferred to 16-th note rhythm should also be played with `c1`.\n",
    "3. The melody transferred to a new chord progression should be played with `c2`."
   ]
  },
  {
   "cell_type": "code",
   "execution_count": 28,
   "metadata": {},
   "outputs": [],
   "source": [
    "def generate_midi_with_melody_chord(fn, mel_notes, c_notes):\n",
    "    midi = pm.PrettyMIDI()\n",
    "    ins1 = pm.Instrument(0)\n",
    "    ins1.notes = mel_notes\n",
    "    ins2 = pm.Instrument(0)\n",
    "    ins2.notes = c_notes\n",
    "    midi.instruments.append(ins1)\n",
    "    midi.instruments.append(ins2)\n",
    "    midi.write(fn)"
   ]
  },
  {
   "cell_type": "code",
   "execution_count": 29,
   "metadata": {},
   "outputs": [],
   "source": [
    "generate_midi_with_melody_chord('./demo/ec2vae-recon.mid', notes_recon, notes_c1)\n",
    "generate_midi_with_melody_chord('./demo/ec2vae-new-rhythm.mid', notes_new_rhythm, notes_c1)\n",
    "generate_midi_with_melody_chord('./demo/ec2vae-new-chord.mid', notes_new_chord, notes_c2)"
   ]
  },
  {
   "cell_type": "markdown",
   "metadata": {},
   "source": [
    "### Question 2:\n",
    "1. Write a new melody (maybe with new chord progression). Try transferring the original melody to the new melody contour. During encoding and decode, which chord should we use as condition?\n",
    "2. Change chord and use same zp and zr. Check the controllability from chord condition. (Our model should not perform very well. Test it on your own!)\n",
    "3. Consider longer melody, change it per 2-bar.\n",
    "4. More to explore: sampling from the prior or posterior. (Hint: to get the posterior distribution, re-write the encoder function output.)"
   ]
  },
  {
   "cell_type": "markdown",
   "metadata": {},
   "source": [
    "## Part two: polyphonic data structure"
   ]
  },
  {
   "cell_type": "markdown",
   "metadata": {},
   "source": [
    "In Poly-Dis, three types of data structure are used: prmat, chord, and PianoTree representation."
   ]
  },
  {
   "cell_type": "code",
   "execution_count": 30,
   "metadata": {},
   "outputs": [],
   "source": [
    "x1 = np.load('./poly_dis/example_data/sample1.npz')\n",
    "\n",
    "pr_mat1 = x1['pr_mat']\n",
    "pianotree1 = x1['ptree']\n",
    "c1 = x1['c']"
   ]
  },
  {
   "cell_type": "markdown",
   "metadata": {},
   "source": [
    "* prmat"
   ]
  },
  {
   "cell_type": "code",
   "execution_count": 31,
   "metadata": {},
   "outputs": [
    {
     "data": {
      "text/plain": [
       "((32, 128), 6.0, 0.0)"
      ]
     },
     "execution_count": 31,
     "metadata": {},
     "output_type": "execute_result"
    }
   ],
   "source": [
    "pr_mat1.shape, pr_mat1.max(), pr_mat1.min()"
   ]
  },
  {
   "cell_type": "code",
   "execution_count": 32,
   "metadata": {},
   "outputs": [
    {
     "data": {
      "image/png": "[encoded data removed]",
      "text/plain": [
       "<Figure size 432x288 with 1 Axes>"
      ]
     },
     "metadata": {
      "needs_background": "light"
     },
     "output_type": "display_data"
    }
   ],
   "source": [
    "plt.imshow(pr_mat1, aspect='auto')\n",
    "plt.show()"
   ]
  },
  {
   "cell_type": "markdown",
   "metadata": {},
   "source": [
    "* chord"
   ]
  },
  {
   "cell_type": "code",
   "execution_count": 33,
   "metadata": {},
   "outputs": [
    {
     "data": {
      "text/plain": [
       "(8, 36)"
      ]
     },
     "execution_count": 33,
     "metadata": {},
     "output_type": "execute_result"
    }
   ],
   "source": [
    "c1.shape"
   ]
  },
  {
   "cell_type": "code",
   "execution_count": 34,
   "metadata": {},
   "outputs": [
    {
     "data": {
      "image/png": "[encoded data removed]",
      "text/plain": [
       "<Figure size 432x288 with 1 Axes>"
      ]
     },
     "metadata": {
      "needs_background": "light"
     },
     "output_type": "display_data"
    }
   ],
   "source": [
    "plt.imshow(c1, aspect='auto')\n",
    "plt.show()"
   ]
  },
  {
   "cell_type": "markdown",
   "metadata": {},
   "source": [
    "Chord: inner 36-d vecotr:\n",
    "* 0-11: one-hot root (absolute pitch class)\n",
    "* 12-23: multi-hot chroma (absolute pitch class)\n",
    "* 24-35: one-hot bass (relative pitch class)"
   ]
  },
  {
   "cell_type": "markdown",
   "metadata": {},
   "source": [
    "* PianoTree"
   ]
  },
  {
   "cell_type": "code",
   "execution_count": 35,
   "metadata": {},
   "outputs": [
    {
     "data": {
      "text/plain": [
       "(32, 16, 6)"
      ]
     },
     "execution_count": 35,
     "metadata": {},
     "output_type": "execute_result"
    }
   ],
   "source": [
    "pianotree1.shape"
   ]
  },
  {
   "cell_type": "code",
   "execution_count": 36,
   "metadata": {},
   "outputs": [
    {
     "data": {
      "text/plain": [
       "array([[128,   2,   2,   2,   2,   2],\n",
       "       [ 40,   0,   0,   1,   0,   1],\n",
       "       [ 87,   0,   0,   0,   0,   1],\n",
       "       [129,   2,   2,   2,   2,   2],\n",
       "       [130,   2,   2,   2,   2,   2],\n",
       "       [130,   2,   2,   2,   2,   2],\n",
       "       [130,   2,   2,   2,   2,   2],\n",
       "       [130,   2,   2,   2,   2,   2],\n",
       "       [130,   2,   2,   2,   2,   2],\n",
       "       [130,   2,   2,   2,   2,   2],\n",
       "       [130,   2,   2,   2,   2,   2],\n",
       "       [130,   2,   2,   2,   2,   2],\n",
       "       [130,   2,   2,   2,   2,   2],\n",
       "       [130,   2,   2,   2,   2,   2],\n",
       "       [130,   2,   2,   2,   2,   2],\n",
       "       [130,   2,   2,   2,   2,   2]])"
      ]
     },
     "execution_count": 36,
     "metadata": {},
     "output_type": "execute_result"
    }
   ],
   "source": [
    "pianotree1[0]"
   ]
  },
  {
   "cell_type": "code",
   "execution_count": 37,
   "metadata": {},
   "outputs": [
    {
     "data": {
      "text/plain": [
       "array([[128,   2,   2,   2,   2,   2],\n",
       "       [ 47,   0,   0,   0,   1,   1],\n",
       "       [129,   2,   2,   2,   2,   2],\n",
       "       [130,   2,   2,   2,   2,   2],\n",
       "       [130,   2,   2,   2,   2,   2],\n",
       "       [130,   2,   2,   2,   2,   2],\n",
       "       [130,   2,   2,   2,   2,   2],\n",
       "       [130,   2,   2,   2,   2,   2],\n",
       "       [130,   2,   2,   2,   2,   2],\n",
       "       [130,   2,   2,   2,   2,   2],\n",
       "       [130,   2,   2,   2,   2,   2],\n",
       "       [130,   2,   2,   2,   2,   2],\n",
       "       [130,   2,   2,   2,   2,   2],\n",
       "       [130,   2,   2,   2,   2,   2],\n",
       "       [130,   2,   2,   2,   2,   2],\n",
       "       [130,   2,   2,   2,   2,   2]])"
      ]
     },
     "execution_count": 37,
     "metadata": {},
     "output_type": "execute_result"
    }
   ],
   "source": [
    "pianotree1[1]"
   ]
  },
  {
   "cell_type": "markdown",
   "metadata": {},
   "source": [
    "Load the second sample in the same fashion."
   ]
  },
  {
   "cell_type": "code",
   "execution_count": 38,
   "metadata": {},
   "outputs": [],
   "source": [
    "x2 = np.load('./poly_dis/example_data/sample2.npz')\n",
    "\n",
    "pr_mat2 = x2['pr_mat']\n",
    "pianotree2 = x2['ptree']\n",
    "c2 = x2['c']"
   ]
  },
  {
   "cell_type": "markdown",
   "metadata": {},
   "source": [
    "## Part three: Poly-Dis"
   ]
  },
  {
   "cell_type": "code",
   "execution_count": 39,
   "metadata": {},
   "outputs": [],
   "source": [
    "from poly_dis.model import PolyDisVAE"
   ]
  },
  {
   "cell_type": "code",
   "execution_count": 40,
   "metadata": {},
   "outputs": [],
   "source": [
    "# initialize the model\n",
    "polydis_model = PolyDisVAE.init_model()\n",
    "\n",
    "# load model parameters\n",
    "polydis_param_path = \"./poly_dis/model_param/polydis-v1.pt\"\n",
    "polydis_model.load_model(polydis_param_path)"
   ]
  },
  {
   "cell_type": "code",
   "execution_count": 41,
   "metadata": {},
   "outputs": [],
   "source": [
    "c1 = torch.from_numpy(c1).float().to(device).unsqueeze(0)\n",
    "c2 = torch.from_numpy(c2).float().to(device).unsqueeze(0)\n",
    "pr_mat1 = torch.from_numpy(pr_mat1).float().to(device).unsqueeze(0)\n",
    "pr_mat2 = torch.from_numpy(pr_mat2).float().to(device).unsqueeze(0)"
   ]
  },
  {
   "cell_type": "code",
   "execution_count": 42,
   "metadata": {},
   "outputs": [],
   "source": [
    "# encode sample 1\n",
    "z_chd1 = polydis_model.chd_encode(c1)\n",
    "z_txt1 = polydis_model.txt_encode(pr_mat1)\n",
    "\n",
    "# encode sample2\n",
    "z_chd2 = polydis_model.chd_encode(c2)\n",
    "z_txt2 = polydis_model.txt_encode(pr_mat2)"
   ]
  },
  {
   "cell_type": "code",
   "execution_count": 43,
   "metadata": {},
   "outputs": [
    {
     "data": {
      "text/plain": [
       "(torch.Size([1, 256]),\n",
       " torch.Size([1, 256]),\n",
       " torch.Size([1, 256]),\n",
       " torch.Size([1, 256]))"
      ]
     },
     "execution_count": 43,
     "metadata": {},
     "output_type": "execute_result"
    }
   ],
   "source": [
    "z_chd1.size(), z_txt1.size(), z_chd2.size(), z_txt2.size()"
   ]
  },
  {
   "cell_type": "markdown",
   "metadata": {},
   "source": [
    "Factor recombination!"
   ]
  },
  {
   "cell_type": "code",
   "execution_count": 44,
   "metadata": {},
   "outputs": [],
   "source": [
    "out11 = polydis_model.pnotree_decode(z_chd1, z_txt1).squeeze(0)\n",
    "out12 = polydis_model.pnotree_decode(z_chd1, z_txt2).squeeze(0)\n",
    "out21 = polydis_model.pnotree_decode(z_chd2, z_txt1).squeeze(0)\n",
    "out22 = polydis_model.pnotree_decode(z_chd2, z_txt2).squeeze(0)"
   ]
  },
  {
   "cell_type": "code",
   "execution_count": 45,
   "metadata": {},
   "outputs": [
    {
     "data": {
      "text/plain": [
       "((32, 15, 6), (32, 15, 6), (32, 15, 6), (32, 15, 6))"
      ]
     },
     "execution_count": 45,
     "metadata": {},
     "output_type": "execute_result"
    }
   ],
   "source": [
    "out11.shape, out12.shape, out21.shape, out22.shape"
   ]
  },
  {
   "cell_type": "markdown",
   "metadata": {},
   "source": [
    "**Note 1**: here the `squeeze(0)` is a method for numpy array, not for pytorch tensor!\n",
    "\n",
    "**Note 2**: The output pianotrees have size (32, 15, 6), not (32, 16, 6), omitting the initial 'sos' token. Check it out!"
   ]
  },
  {
   "cell_type": "code",
   "execution_count": 46,
   "metadata": {},
   "outputs": [],
   "source": [
    "# convert the output to pretty_midi notes. The converter can handle both (32, 16, 6) and (32, 15, 6) inputs.\n",
    "notes11 = polydis_model.pnotree_to_notes(out11, bpm=120, start=0.)\n",
    "notes12 = polydis_model.pnotree_to_notes(out12, bpm=120, start=0.)\n",
    "notes21 = polydis_model.pnotree_to_notes(out21, bpm=120, start=0.)\n",
    "notes22 = polydis_model.pnotree_to_notes(out22, bpm=120, start=0.)"
   ]
  },
  {
   "cell_type": "code",
   "execution_count": 47,
   "metadata": {},
   "outputs": [],
   "source": [
    "# write midi\n",
    "midi = pm.PrettyMIDI()\n",
    "ins1 = pm.Instrument(0, name='chd1, txt1')\n",
    "ins1.notes = notes11\n",
    "\n",
    "ins2 = pm.Instrument(0, name='chd1, txt2')\n",
    "ins2.notes = notes12\n",
    "\n",
    "ins3 = pm.Instrument(0, name='chd2, txt1')\n",
    "ins3.notes = notes21\n",
    "\n",
    "ins4 = pm.Instrument(0, name='chd2, txt2')\n",
    "ins4.notes = notes22\n",
    "\n",
    "midi.instruments = [ins1, ins2, ins3, ins4]\n",
    "midi.write('./demo/polyphonic-demo.mid')"
   ]
  },
  {
   "cell_type": "markdown",
   "metadata": {},
   "source": [
    "### Batching"
   ]
  },
  {
   "cell_type": "markdown",
   "metadata": {},
   "source": [
    "In pytorch, we usually do not feed in only one data sample. Intead, we feed into the model $n$ samples at a time. We call the $n$ samples a batch, or mini-batch, and $n$ is the batch size. \n",
    "\n",
    "Formally, the unsqueezed dimension is the batch size. For example, the input to ec2vae is (1, 32, 130). Actually, it is (bs, 32, 130). bs can be any numbers, usually 32, 64, 128 etc.\n",
    "\n",
    "Larger batch size is more efficient than writing for loop of batch size = 1."
   ]
  },
  {
   "cell_type": "code",
   "execution_count": 48,
   "metadata": {},
   "outputs": [],
   "source": [
    "z_chds = torch.cat([z_chd1, z_chd1, z_chd2, z_chd2], 0)\n",
    "z_txts = torch.cat([z_txt1, z_txt2, z_txt1, z_txt2], 0)"
   ]
  },
  {
   "cell_type": "code",
   "execution_count": 49,
   "metadata": {},
   "outputs": [
    {
     "data": {
      "text/plain": [
       "(torch.Size([4, 256]), torch.Size([4, 256]))"
      ]
     },
     "execution_count": 49,
     "metadata": {},
     "output_type": "execute_result"
    }
   ],
   "source": [
    "z_chds.size(), z_txts.size()"
   ]
  },
  {
   "cell_type": "code",
   "execution_count": 50,
   "metadata": {},
   "outputs": [],
   "source": [
    "outs = polydis_model.pnotree_decode(z_chds, z_txts)"
   ]
  },
  {
   "cell_type": "code",
   "execution_count": 51,
   "metadata": {},
   "outputs": [
    {
     "data": {
      "text/plain": [
       "(4, 32, 15, 6)"
      ]
     },
     "execution_count": 51,
     "metadata": {},
     "output_type": "execute_result"
    }
   ],
   "source": [
    "outs.shape"
   ]
  },
  {
   "cell_type": "markdown",
   "metadata": {},
   "source": [
    "## Appendix: POP909 dataset"
   ]
  },
  {
   "cell_type": "markdown",
   "metadata": {},
   "source": [
    "Paper: https://program.ismir2020.net/poster_1-04.html\n",
    "Dataset: https://github.com/music-x-lab/POP909-Dataset"
   ]
  }
 ],
 "metadata": {
  "kernelspec": {
   "display_name": "Python 3",
   "language": "python",
   "name": "python3"
  },
  "language_info": {
   "codemirror_mode": {
    "name": "ipython",
    "version": 3
   },
   "file_extension": ".py",
   "mimetype": "text/x-python",
   "name": "python",
   "nbconvert_exporter": "python",
   "pygments_lexer": "ipython3",
   "version": "3.7.9"
  }
 },
 "nbformat": 4,
 "nbformat_minor": 4
}
